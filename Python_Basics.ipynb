{
  "nbformat": 4,
  "nbformat_minor": 0,
  "metadata": {
    "colab": {
      "provenance": []
    },
    "kernelspec": {
      "name": "python3",
      "display_name": "Python 3"
    },
    "language_info": {
      "name": "python"
    }
  },
  "cells": [
    {
      "cell_type": "markdown",
      "source": [
        "1.What is Python, and why is it popular?\n",
        "   - Python is a popular, versatile, and easy-to-learn programming language widely used for web development, data science, machine learning, and automation, due to its simple syntax, extensive libraries, and a large, supportive community.\n",
        "\n",
        "2.What is an interpreter in Python?\n",
        "  - An interpreter is a program that reads and executes Python code line by line, translating it into machine-readable instructions.\n",
        "\n",
        "3.What are pre-defined keywords in Python?\n",
        "  - Python Keywords are some predefined and reserved words in Python that have special meanings. Keywords are used to define the syntax of the coding. The keyword cannot be used as an identifier, function, or variable name.\n",
        "\n",
        "4.Can keywords be used as variable names?\n",
        "  - No. we can not use keywords as variable names because keywords are reserved words with predefined meanings that the interpreter or compiler uses to understand the structure of the code.\n",
        "\n",
        "5.What is mutability in Python?\n",
        "  - In Python, mutability refers to an object's ability to be changed or modified after it's created, with mutable objects allowing in-place modifications, while immutable objects require creating new objects for any changes.\n",
        "\n",
        "6.Why are lists mutable, but tuples are immutable?\n",
        "  - Lists are mutable because they are built to allow dynamic changes in content. You can modify a list without creating a new one, which can make your code more efficient when working with large datasets or objects that require frequent modifications.\n",
        "\n",
        "  - The immutability of tuples comes from their role in making data structures more predictable and safer, especially when you want to ensure the data doesn't accidentally get altered. This also makes them hashable, meaning tuples can be used as keys in dictionaries or stored in sets (which lists cannot).\n",
        "\n",
        "7.What is the difference between “==” and “is” operators in Python?\n",
        "  - == checks whether the values of the two objects are the same, regardless of whether they are stored in the same location in memory.\n",
        "  - is operator checks whether the two objects are the same object in memory (i.e., if they refer to the same location in memory).\n",
        "\n",
        "8.What are logical operators in Python?\n",
        "  - In Python, logical operators, also known as Boolean operators, are used to combine or modify conditions and return a Boolean value (True or False). The main logical operators are and, or, and not.\n",
        "\n",
        "9.What is type casting in Python?\n",
        "  - In Python, type casting is the process of converting a variable's data type from one type to another, like converting an integer to a float or a string to an integer.\n",
        "\n",
        "10.What is the difference between implicit and explicit type casting?\n",
        "  - Implicit type casting happens automatically by the compiler, while explicit type casting, also known as type conversion, requires the programmer to explicitly instruct the conversion.\n",
        "\n",
        "11.What is the purpose of conditional statements in Python?\n",
        "  - Conditional statements in Python, like if, elif, and else, allow programs to execute different blocks of code based on whether a condition is true or false, enabling dynamic and responsive behavior.\n",
        "\n",
        "12.How does the elif statement work?\n",
        "  - The “elif” keyword in Python, stands for “else if”. It can be used in conditional statements to check for multiple conditions. For example, if the first condition is false, it moves on to the next “elif” statement to check if that condition is true.\n",
        "\n",
        "13.What is the difference between for and while loops?\n",
        "  - The main difference between for and while loops lies in their purpose: for loops are used when you know the number of iterations beforehand, while while loops are used when the number of iterations depends on a dynamic condition.\n",
        "\n",
        "14.Describe a scenario where a while loop is more suitable than a for loop.\n",
        "  - Scenario: Reading User Input Until Valid Data is Entered\n",
        "Suppose you're writing a program where you need to ask the user to enter a positive number. The loop should continue asking the user for input until they provide a valid response (a positive number). Since you don’t know how many times the user will enter invalid data, a while loop is more appropriate here.\n",
        "\n",
        "Example:\n",
        "# Keep asking the user for input until they enter a positive number\n",
        "number = -1  # Initial invalid value\n",
        "\n",
        "while number <= 0:\n",
        "    number = float(input(\"Please enter a positive number: \"))\n",
        "    if number <= 0:\n",
        "        print(\"That's not a positive number. Please try again.\")\n",
        "\n",
        "print(f\"Thank you! You entered {number}.\")\n"
      ],
      "metadata": {
        "id": "lcDqIp9ZyZI1"
      }
    },
    {
      "cell_type": "code",
      "source": [
        "# 1.Write a Python program to print \"Hello, World!\n",
        "print(\"Hello World\")"
      ],
      "metadata": {
        "colab": {
          "base_uri": "https://localhost:8080/"
        },
        "id": "LUP-o4Ou6BBb",
        "outputId": "e207b040-fe89-4330-c2c7-cabf32a8bb81"
      },
      "execution_count": 4,
      "outputs": [
        {
          "output_type": "stream",
          "name": "stdout",
          "text": [
            "Hello World\n"
          ]
        }
      ]
    },
    {
      "cell_type": "code",
      "source": [
        "# 2.Write a Python program that displays your name and age.\n",
        "\n",
        "name = \"Pawan Kumar\"\n",
        "age = 27\n",
        "\n",
        "# Display the name and age\n",
        "print(\"Name:\", name)\n",
        "print(\"Age:\", age)"
      ],
      "metadata": {
        "colab": {
          "base_uri": "https://localhost:8080/"
        },
        "id": "WTLybz806MRp",
        "outputId": "77a6025e-e289-4866-b2b4-cb0e45be0ced"
      },
      "execution_count": 9,
      "outputs": [
        {
          "output_type": "stream",
          "name": "stdout",
          "text": [
            "Name: Pawan Kumar\n",
            "Age: 27\n"
          ]
        }
      ]
    },
    {
      "cell_type": "code",
      "source": [
        "# 3.Write code to print all the pre-defined keywords in Python using the keyword library.\n",
        "\n",
        "import keyword\n",
        "\n",
        "print(\"Python Keywords:\")\n",
        "print(keyword.kwlist)"
      ],
      "metadata": {
        "colab": {
          "base_uri": "https://localhost:8080/"
        },
        "id": "B6aSw2SK6jw7",
        "outputId": "62e515b4-ce26-4ab6-f2da-5435985c3f72"
      },
      "execution_count": 12,
      "outputs": [
        {
          "output_type": "stream",
          "name": "stdout",
          "text": [
            "Python Keywords:\n",
            "['False', 'None', 'True', 'and', 'as', 'assert', 'async', 'await', 'break', 'class', 'continue', 'def', 'del', 'elif', 'else', 'except', 'finally', 'for', 'from', 'global', 'if', 'import', 'in', 'is', 'lambda', 'nonlocal', 'not', 'or', 'pass', 'raise', 'return', 'try', 'while', 'with', 'yield']\n"
          ]
        }
      ]
    },
    {
      "cell_type": "code",
      "source": [
        "# 4.Write a program that checks if a given word is a Python keyword.\n",
        "import keyword\n",
        "\n",
        "word = input(\"Enter a word to check if it's a Python keyword: \")\n",
        "\n",
        "# Check if the word is a Python keyword\n",
        "if keyword.iskeyword(word):\n",
        "    print(f\"'{word}' is a Python keyword.\")\n",
        "else:\n",
        "    print(f\"'{word}' is not a Python keyword.\")"
      ],
      "metadata": {
        "colab": {
          "base_uri": "https://localhost:8080/"
        },
        "id": "ArPa2gpC7S3U",
        "outputId": "34eeac66-c873-48f0-b961-8343250ddd0c"
      },
      "execution_count": 15,
      "outputs": [
        {
          "output_type": "stream",
          "name": "stdout",
          "text": [
            "Enter a word to check if it's a Python keyword: for\n",
            "'for' is a Python keyword.\n"
          ]
        }
      ]
    },
    {
      "cell_type": "code",
      "source": [
        "# 5.Create a list and tuple in Python, and demonstrate how attempting to change an element works differently for each.\n",
        "\n",
        "# Creating a list and a tuple\n",
        "my_list = [10, 20, 30, 40, 50]\n",
        "my_tuple = (10, 20, 30, 40, 50)\n",
        "\n",
        "# Attempt to change an element in the list\n",
        "print(\"Original list:\", my_list)\n",
        "my_list[2] = 99  # Change the element at index 2\n",
        "print(\"Modified list:\", my_list)\n",
        "\n",
        "# Attempt to change an element in the tuple\n",
        "print(\"\\nOriginal tuple:\", my_tuple)\n",
        "try:\n",
        "    my_tuple[2] = 99  # Attempting to modify the element at index 2\n",
        "except TypeError as e:\n",
        "    print(\"Error:\", e)"
      ],
      "metadata": {
        "colab": {
          "base_uri": "https://localhost:8080/"
        },
        "id": "HmpExDee7wcc",
        "outputId": "895868b7-268b-44c6-ec51-a6a442e92202"
      },
      "execution_count": 16,
      "outputs": [
        {
          "output_type": "stream",
          "name": "stdout",
          "text": [
            "Original list: [1, 2, 3, 4, 5]\n",
            "Modified list: [1, 2, 99, 4, 5]\n",
            "\n",
            "Original tuple: (1, 2, 3, 4, 5)\n",
            "Error: 'tuple' object does not support item assignment\n"
          ]
        }
      ]
    },
    {
      "cell_type": "code",
      "source": [
        "# 6. Write a function to demonstrate the behavior of mutable and immutable arguments.\n",
        "\n",
        "def modify_objects(mutable_arg, immutable_arg):\n",
        "    print(\"Before modification:\")\n",
        "    print(\"Mutable argument (list):\", mutable_arg)\n",
        "    print(\"Immutable argument (int):\", immutable_arg)\n",
        "\n",
        "    # Modify the mutable argument (list)\n",
        "    mutable_arg.append(100)\n",
        "\n",
        "    # Modify the immutable argument (int)\n",
        "    immutable_arg = 999\n",
        "\n",
        "    print(\"\\nAfter modification:\")\n",
        "    print(\"Mutable argument (list):\", mutable_arg)\n",
        "    print(\"Immutable argument (int):\", immutable_arg)\n",
        "\n",
        "# Create a mutable object (list) and an immutable object (integer)\n",
        "my_list = [1, 2, 3]\n",
        "my_int = 42\n",
        "\n",
        "# Call the function with the mutable and immutable arguments\n",
        "modify_objects(my_list, my_int)\n",
        "\n",
        "# Check the values outside the function\n",
        "print(\"\\nOutside the function:\")\n",
        "print(\"Original mutable argument (list):\", my_list)  # Should show the updated list\n",
        "print(\"Original immutable argument (int):\", my_int)  # Should show the original value"
      ],
      "metadata": {
        "colab": {
          "base_uri": "https://localhost:8080/"
        },
        "id": "u23g1tUZ8XbZ",
        "outputId": "8084d0cd-955b-405a-8980-3937c885fe69"
      },
      "execution_count": 17,
      "outputs": [
        {
          "output_type": "stream",
          "name": "stdout",
          "text": [
            "Before modification:\n",
            "Mutable argument (list): [1, 2, 3]\n",
            "Immutable argument (int): 42\n",
            "\n",
            "After modification:\n",
            "Mutable argument (list): [1, 2, 3, 100]\n",
            "Immutable argument (int): 999\n",
            "\n",
            "Outside the function:\n",
            "Original mutable argument (list): [1, 2, 3, 100]\n",
            "Original immutable argument (int): 42\n"
          ]
        }
      ]
    },
    {
      "cell_type": "code",
      "source": [
        "# 7.Write a function to demonstrate the behavior of mutable and immutable arguments.\n",
        "# Question number 6 and 7 are the same questions."
      ],
      "metadata": {
        "id": "sJMeST9R-O1g"
      },
      "execution_count": 18,
      "outputs": []
    },
    {
      "cell_type": "code",
      "source": [
        "# 8.Write a program to demonstrate the use of logical operators.\n",
        "# Program to demonstrate logical operators (and, or, not)\n",
        "\n",
        "# Sample variables\n",
        "x = 10\n",
        "y = 5\n",
        "z = 20\n",
        "\n",
        "# Logical AND (and)\n",
        "print(\"Logical AND:\")\n",
        "if x > y and z > x:\n",
        "    print(f\"{x} is greater than {y} AND {z} is greater than {x}\")\n",
        "else:\n",
        "    print(f\"Condition failed for AND\")\n",
        "\n",
        "# Logical OR (or)\n",
        "print(\"\\nLogical OR:\")\n",
        "if x < y or z > x:\n",
        "    print(f\"{x} is less than {y} OR {z} is greater than {x}\")\n",
        "else:\n",
        "    print(f\"Condition failed for OR\")\n",
        "\n",
        "# Logical NOT (not)\n",
        "print(\"\\nLogical NOT:\")\n",
        "if not x < y:\n",
        "    print(f\"NOT: {x} is not less than {y}\")\n",
        "else:\n",
        "    print(f\"Condition failed for NOT\")\n",
        "\n",
        "# Combining logical operators\n",
        "print(\"\\nCombining AND, OR, and NOT:\")\n",
        "if (x > y and z > x) or not x == y:\n",
        "    print(f\"Combined condition is True\")\n",
        "else:\n",
        "    print(f\"Combined condition is False\")\n"
      ],
      "metadata": {
        "colab": {
          "base_uri": "https://localhost:8080/"
        },
        "id": "71HSFLyN-rk4",
        "outputId": "f7109cfe-e812-42ec-c6f2-a4ed7dfdfea1"
      },
      "execution_count": 19,
      "outputs": [
        {
          "output_type": "stream",
          "name": "stdout",
          "text": [
            "Logical AND:\n",
            "10 is greater than 5 AND 20 is greater than 10\n",
            "\n",
            "Logical OR:\n",
            "10 is less than 5 OR 20 is greater than 10\n",
            "\n",
            "Logical NOT:\n",
            "NOT: 10 is not less than 5\n",
            "\n",
            "Combining AND, OR, and NOT:\n",
            "Combined condition is True\n"
          ]
        }
      ]
    },
    {
      "cell_type": "code",
      "source": [
        "# 9.Write a Python program to convert user input from string to integer, float, and boolean types.\n",
        "# Get user input as a string\n",
        "user_input = input(\"Enter a value: \")\n",
        "\n",
        "# Convert to integer\n",
        "try:\n",
        "    int_value = int(user_input)\n",
        "    print(f\"Converted to integer: {int_value}\")\n",
        "except ValueError:\n",
        "    print(\"Invalid input for integer conversion.\")\n",
        "\n",
        "# Convert to float\n",
        "try:\n",
        "    float_value = float(user_input)\n",
        "    print(f\"Converted to float: {float_value}\")\n",
        "except ValueError:\n",
        "    print(\"Invalid input for float conversion.\")\n",
        "\n",
        "# Convert to boolean\n",
        "# In Python, empty strings or '0' are considered False; all other values are considered True.\n",
        "boolean_value = bool(user_input)\n",
        "print(f\"Converted to boolean: {boolean_value}\")\n"
      ],
      "metadata": {
        "colab": {
          "base_uri": "https://localhost:8080/"
        },
        "id": "cznEfvo3-7KC",
        "outputId": "9f0a2698-8c71-42f6-c406-795edf5b2c47"
      },
      "execution_count": 20,
      "outputs": [
        {
          "output_type": "stream",
          "name": "stdout",
          "text": [
            "Enter a value: 10\n",
            "Converted to integer: 10\n",
            "Converted to float: 10.0\n",
            "Converted to boolean: True\n"
          ]
        }
      ]
    },
    {
      "cell_type": "code",
      "source": [
        "# 10.Write code to demonstrate type casting with list elements.\n",
        "\n",
        "# Demonstrating type casting with list elements\n",
        "print(\"Original list:\", my_list)\n",
        "\n",
        "# Casting each element to a string\n",
        "string_list = list(map(str, my_list))\n",
        "print(\"List with elements cast to strings:\", string_list)\n",
        "\n",
        "# Casting each element to a float\n",
        "float_list = list(map(float, my_list))\n",
        "print(\"List with elements cast to floats:\", float_list)\n",
        "\n",
        "# Casting each element back to an integer\n",
        "int_list = list(map(int, float_list))\n",
        "print(\"List with elements cast back to integers:\", int_list)"
      ],
      "metadata": {
        "colab": {
          "base_uri": "https://localhost:8080/"
        },
        "id": "BT05Or9U_WgW",
        "outputId": "2f6bfd24-de44-4101-8171-bcd41ea951d2"
      },
      "execution_count": 22,
      "outputs": [
        {
          "output_type": "stream",
          "name": "stdout",
          "text": [
            "Original list: [1, 2, 3, 100]\n",
            "List with elements cast to strings: ['1', '2', '3', '100']\n",
            "List with elements cast to floats: [1.0, 2.0, 3.0, 100.0]\n",
            "List with elements cast back to integers: [1, 2, 3, 100]\n"
          ]
        }
      ]
    },
    {
      "cell_type": "code",
      "source": [
        "# 11.Write a program that checks if a number is positive, negative, or zero.\n",
        "\n",
        "# Get user input\n",
        "num = float(input(\"Enter a number: \"))\n",
        "\n",
        "# Check if the number is positive, negative, or zero\n",
        "if num > 0:\n",
        "    print(\"The number is positive.\")\n",
        "elif num < 0:\n",
        "    print(\"The number is negative.\")\n",
        "else:\n",
        "    print(\"The number is zero.\")"
      ],
      "metadata": {
        "colab": {
          "base_uri": "https://localhost:8080/"
        },
        "id": "70QKsESP_7ab",
        "outputId": "9b09ceb0-4a34-4c8d-e3ee-461a49a7370e"
      },
      "execution_count": 23,
      "outputs": [
        {
          "output_type": "stream",
          "name": "stdout",
          "text": [
            "Enter a number: 90\n",
            "The number is positive.\n"
          ]
        }
      ]
    },
    {
      "cell_type": "code",
      "source": [
        "# 12.  Write a for loop to print numbers from 1 to 10.\n",
        "\n",
        "for i in range(1, 11):\n",
        "    print(i)"
      ],
      "metadata": {
        "colab": {
          "base_uri": "https://localhost:8080/"
        },
        "id": "v_bd7GHAAVuC",
        "outputId": "33e2144f-8a99-48fa-ea96-7d512d7683fa"
      },
      "execution_count": 24,
      "outputs": [
        {
          "output_type": "stream",
          "name": "stdout",
          "text": [
            "1\n",
            "2\n",
            "3\n",
            "4\n",
            "5\n",
            "6\n",
            "7\n",
            "8\n",
            "9\n",
            "10\n"
          ]
        }
      ]
    },
    {
      "cell_type": "code",
      "source": [
        "#13.Write a Python program to find the sum of all even numbers between 1 and 500.\n",
        "even_sum = sum(i for i in range(2, 501, 2))\n",
        "print(\"The sum of all even numbers between 1 and 500 is:\", even_sum)"
      ],
      "metadata": {
        "colab": {
          "base_uri": "https://localhost:8080/"
        },
        "id": "_crrtcxTAvVS",
        "outputId": "2f7fc105-c212-40bb-ae67-b8d47751fd91"
      },
      "execution_count": 25,
      "outputs": [
        {
          "output_type": "stream",
          "name": "stdout",
          "text": [
            "The sum of all even numbers between 1 and 500 is: 62750\n"
          ]
        }
      ]
    },
    {
      "cell_type": "code",
      "source": [
        "# 14.Write a program to reverse a string using a while loop.\n",
        "# Input string\n",
        "input_string = \"Hello, World!\"\n",
        "\n",
        "# Initialize variables\n",
        "reversed_string = \"\"\n",
        "index = len(input_string) - 1\n",
        "\n",
        "# Reverse the string using a while loop\n",
        "while index >= 0:\n",
        "    reversed_string += input_string[index]\n",
        "    index -= 1\n",
        "\n",
        "print(\"Original string:\", input_string)\n",
        "print(\"Reversed string:\", reversed_string)"
      ],
      "metadata": {
        "colab": {
          "base_uri": "https://localhost:8080/"
        },
        "id": "GStH5RqnA8i-",
        "outputId": "3e26ddf5-44c3-43a1-f0ff-1a56627e55a7"
      },
      "execution_count": 28,
      "outputs": [
        {
          "output_type": "stream",
          "name": "stdout",
          "text": [
            "Original string: Hello, World!\n",
            "Reversed string: !dlroW ,olleH\n"
          ]
        }
      ]
    },
    {
      "cell_type": "code",
      "source": [
        "# 15.Write a Python program to calculate the factorial of a number provided by the user using a while loop.\n",
        "# Input from the user\n",
        "num = int(input(\"Enter a number to calculate its factorial: \"))\n",
        "\n",
        "# Initialize variables\n",
        "factorial = 1\n",
        "current = num\n",
        "\n",
        "# Calculate factorial using a while loop\n",
        "while current > 0:\n",
        "    factorial *= current\n",
        "    current -= 1\n",
        "\n",
        "print(f\"The factorial of {num} is: {factorial}\")"
      ],
      "metadata": {
        "colab": {
          "base_uri": "https://localhost:8080/"
        },
        "id": "tmkg86EfBYGV",
        "outputId": "067bc869-1be5-436e-99b8-632c217d907e"
      },
      "execution_count": 29,
      "outputs": [
        {
          "output_type": "stream",
          "name": "stdout",
          "text": [
            "Enter a number to calculate its factorial: 13\n",
            "The factorial of 13 is: 6227020800\n"
          ]
        }
      ]
    },
    {
      "cell_type": "code",
      "source": [],
      "metadata": {
        "id": "-3pQ_8MjB_4Y"
      },
      "execution_count": null,
      "outputs": []
    }
  ]
}